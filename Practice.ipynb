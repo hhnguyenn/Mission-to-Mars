{
 "cells": [
  {
   "cell_type": "code",
   "execution_count": 2,
   "metadata": {},
   "outputs": [],
   "source": [
    "from splinter import Browser\n",
    "from bs4 import BeautifulSoup"
   ]
  },
  {
   "cell_type": "code",
   "execution_count": 3,
   "metadata": {},
   "outputs": [
    {
     "name": "stdout",
     "output_type": "stream",
     "text": [
      "/c/WINDOWS/chromedriver\n"
     ]
    }
   ],
   "source": [
    "#Path to chromedriver\n",
    "!which chromedriver"
   ]
  },
  {
   "cell_type": "code",
   "execution_count": 4,
   "metadata": {},
   "outputs": [],
   "source": [
    "#Windows users\n",
    "executable_path={'executable_path': 'chromedriver.exe'}\n",
    "browser=Browser('chrome', **executable_path, headless=False)"
   ]
  },
  {
   "cell_type": "code",
   "execution_count": 5,
   "metadata": {},
   "outputs": [],
   "source": [
    "url='http://quotes.toscrape.com/'\n",
    "browser.visit(url)"
   ]
  },
  {
   "cell_type": "code",
   "execution_count": 6,
   "metadata": {},
   "outputs": [],
   "source": [
    "#parse the HTML\n",
    "html=browser.html\n",
    "soup=BeautifulSoup(html, 'html.parser')"
   ]
  },
  {
   "cell_type": "code",
   "execution_count": 7,
   "metadata": {},
   "outputs": [
    {
     "data": {
      "text/plain": [
       "'Top Ten tags'"
      ]
     },
     "execution_count": 7,
     "metadata": {},
     "output_type": "execute_result"
    }
   ],
   "source": [
    "#Scrape the Title\n",
    "title=soup.find('h2').text\n",
    "title"
   ]
  },
  {
   "cell_type": "code",
   "execution_count": 8,
   "metadata": {},
   "outputs": [
    {
     "name": "stdout",
     "output_type": "stream",
     "text": [
      "love\n",
      "inspirational\n",
      "life\n",
      "humor\n",
      "books\n",
      "reading\n",
      "friendship\n",
      "friends\n",
      "truth\n",
      "simile\n"
     ]
    }
   ],
   "source": [
    "#Scrape the top ten tags\n",
    "tag_box=soup.find('div', class_='tags-box')\n",
    "#tag_box\n",
    "tags=tag_box.find_all('a', class_='tag')\n",
    "\n",
    "for tag in tags:\n",
    "    word=tag.text\n",
    "    print(word)"
   ]
  },
  {
   "cell_type": "code",
   "execution_count": 9,
   "metadata": {},
   "outputs": [],
   "source": [
    "url='html://quotes.toscrape.com'\n",
    "browser.visit(url)"
   ]
  },
  {
   "cell_type": "code",
   "execution_count": 10,
   "metadata": {},
   "outputs": [
    {
     "name": "stderr",
     "output_type": "stream",
     "text": [
      "C:\\Users\\hhngu\\Anaconda3\\lib\\site-packages\\splinter\\driver\\webdriver\\__init__.py:528: FutureWarning: browser.find_link_by_partial_text is deprecated. Use browser.links.find_by_partial_text instead.\n",
      "  FutureWarning,\n"
     ]
    }
   ],
   "source": [
    "for x in range(1, 6):\n",
    "   html = browser.html\n",
    "   soup = BeautifulSoup (html, 'html.parser')\n",
    "   quotes = soup.find_all('span', class_='image_container')\n",
    "   for quote in quotes:\n",
    "      print('page:', x, '----------')\n",
    "      print(quote.text)\n",
    "   browser.click_link_by_partial_text('Next')"
   ]
  },
  {
   "cell_type": "code",
   "execution_count": 11,
   "metadata": {},
   "outputs": [],
   "source": [
    "#Skills Drill\n",
    "url='http://books.toscrape.com/'\n",
    "browser.visit(url)"
   ]
  },
  {
   "cell_type": "code",
   "execution_count": 12,
   "metadata": {},
   "outputs": [
    {
     "name": "stdout",
     "output_type": "stream",
     "text": [
      "http://books.toscrape.com/index.html\n",
      "http://books.toscrape.com/index.html\n",
      "http://books.toscrape.com/catalogue/category/books_1/index.html\n",
      "http://books.toscrape.com/catalogue/category/books/travel_2/index.html\n",
      "http://books.toscrape.com/catalogue/category/books/mystery_3/index.html\n",
      "http://books.toscrape.com/catalogue/category/books/historical-fiction_4/index.html\n",
      "http://books.toscrape.com/catalogue/category/books/sequential-art_5/index.html\n",
      "http://books.toscrape.com/catalogue/category/books/classics_6/index.html\n",
      "http://books.toscrape.com/catalogue/category/books/philosophy_7/index.html\n",
      "http://books.toscrape.com/catalogue/category/books/romance_8/index.html\n",
      "http://books.toscrape.com/catalogue/category/books/womens-fiction_9/index.html\n",
      "http://books.toscrape.com/catalogue/category/books/fiction_10/index.html\n",
      "http://books.toscrape.com/catalogue/category/books/childrens_11/index.html\n",
      "http://books.toscrape.com/catalogue/category/books/religion_12/index.html\n",
      "http://books.toscrape.com/catalogue/category/books/nonfiction_13/index.html\n",
      "http://books.toscrape.com/catalogue/category/books/music_14/index.html\n",
      "http://books.toscrape.com/catalogue/category/books/default_15/index.html\n",
      "http://books.toscrape.com/catalogue/category/books/science-fiction_16/index.html\n",
      "http://books.toscrape.com/catalogue/category/books/sports-and-games_17/index.html\n",
      "http://books.toscrape.com/catalogue/category/books/add-a-comment_18/index.html\n",
      "http://books.toscrape.com/catalogue/category/books/fantasy_19/index.html\n",
      "http://books.toscrape.com/catalogue/category/books/new-adult_20/index.html\n",
      "http://books.toscrape.com/catalogue/category/books/young-adult_21/index.html\n",
      "http://books.toscrape.com/catalogue/category/books/science_22/index.html\n",
      "http://books.toscrape.com/catalogue/category/books/poetry_23/index.html\n",
      "http://books.toscrape.com/catalogue/category/books/paranormal_24/index.html\n",
      "http://books.toscrape.com/catalogue/category/books/art_25/index.html\n",
      "http://books.toscrape.com/catalogue/category/books/psychology_26/index.html\n",
      "http://books.toscrape.com/catalogue/category/books/autobiography_27/index.html\n",
      "http://books.toscrape.com/catalogue/category/books/parenting_28/index.html\n",
      "http://books.toscrape.com/catalogue/category/books/adult-fiction_29/index.html\n",
      "http://books.toscrape.com/catalogue/category/books/humor_30/index.html\n",
      "http://books.toscrape.com/catalogue/category/books/horror_31/index.html\n",
      "http://books.toscrape.com/catalogue/category/books/history_32/index.html\n",
      "http://books.toscrape.com/catalogue/category/books/food-and-drink_33/index.html\n",
      "http://books.toscrape.com/catalogue/category/books/christian-fiction_34/index.html\n",
      "http://books.toscrape.com/catalogue/category/books/business_35/index.html\n",
      "http://books.toscrape.com/catalogue/category/books/biography_36/index.html\n",
      "http://books.toscrape.com/catalogue/category/books/thriller_37/index.html\n",
      "http://books.toscrape.com/catalogue/category/books/contemporary_38/index.html\n",
      "http://books.toscrape.com/catalogue/category/books/spirituality_39/index.html\n",
      "http://books.toscrape.com/catalogue/category/books/academic_40/index.html\n",
      "http://books.toscrape.com/catalogue/category/books/self-help_41/index.html\n",
      "http://books.toscrape.com/catalogue/category/books/historical_42/index.html\n",
      "http://books.toscrape.com/catalogue/category/books/christian_43/index.html\n",
      "http://books.toscrape.com/catalogue/category/books/suspense_44/index.html\n",
      "http://books.toscrape.com/catalogue/category/books/short-stories_45/index.html\n",
      "http://books.toscrape.com/catalogue/category/books/novels_46/index.html\n",
      "http://books.toscrape.com/catalogue/category/books/health_47/index.html\n",
      "http://books.toscrape.com/catalogue/category/books/politics_48/index.html\n",
      "http://books.toscrape.com/catalogue/category/books/cultural_49/index.html\n",
      "http://books.toscrape.com/catalogue/category/books/erotica_50/index.html\n",
      "http://books.toscrape.com/catalogue/category/books/crime_51/index.html\n",
      "http://books.toscrape.com/catalogue/a-light-in-the-attic_1000/index.html\n",
      "http://books.toscrape.com/catalogue/a-light-in-the-attic_1000/index.html\n",
      "http://books.toscrape.com/catalogue/tipping-the-velvet_999/index.html\n",
      "http://books.toscrape.com/catalogue/tipping-the-velvet_999/index.html\n",
      "http://books.toscrape.com/catalogue/soumission_998/index.html\n",
      "http://books.toscrape.com/catalogue/soumission_998/index.html\n",
      "http://books.toscrape.com/catalogue/sharp-objects_997/index.html\n",
      "http://books.toscrape.com/catalogue/sharp-objects_997/index.html\n",
      "http://books.toscrape.com/catalogue/sapiens-a-brief-history-of-humankind_996/index.html\n",
      "http://books.toscrape.com/catalogue/sapiens-a-brief-history-of-humankind_996/index.html\n",
      "http://books.toscrape.com/catalogue/the-requiem-red_995/index.html\n",
      "http://books.toscrape.com/catalogue/the-requiem-red_995/index.html\n",
      "http://books.toscrape.com/catalogue/the-dirty-little-secrets-of-getting-your-dream-job_994/index.html\n",
      "http://books.toscrape.com/catalogue/the-dirty-little-secrets-of-getting-your-dream-job_994/index.html\n",
      "http://books.toscrape.com/catalogue/the-coming-woman-a-novel-based-on-the-life-of-the-infamous-feminist-victoria-woodhull_993/index.html\n",
      "http://books.toscrape.com/catalogue/the-coming-woman-a-novel-based-on-the-life-of-the-infamous-feminist-victoria-woodhull_993/index.html\n",
      "http://books.toscrape.com/catalogue/the-boys-in-the-boat-nine-americans-and-their-epic-quest-for-gold-at-the-1936-berlin-olympics_992/index.html\n",
      "http://books.toscrape.com/catalogue/the-boys-in-the-boat-nine-americans-and-their-epic-quest-for-gold-at-the-1936-berlin-olympics_992/index.html\n",
      "http://books.toscrape.com/catalogue/the-black-maria_991/index.html\n",
      "http://books.toscrape.com/catalogue/the-black-maria_991/index.html\n",
      "http://books.toscrape.com/catalogue/starving-hearts-triangular-trade-trilogy-1_990/index.html\n",
      "http://books.toscrape.com/catalogue/starving-hearts-triangular-trade-trilogy-1_990/index.html\n",
      "http://books.toscrape.com/catalogue/shakespeares-sonnets_989/index.html\n",
      "http://books.toscrape.com/catalogue/shakespeares-sonnets_989/index.html\n",
      "http://books.toscrape.com/catalogue/set-me-free_988/index.html\n",
      "http://books.toscrape.com/catalogue/set-me-free_988/index.html\n",
      "http://books.toscrape.com/catalogue/scott-pilgrims-precious-little-life-scott-pilgrim-1_987/index.html\n",
      "http://books.toscrape.com/catalogue/scott-pilgrims-precious-little-life-scott-pilgrim-1_987/index.html\n",
      "http://books.toscrape.com/catalogue/rip-it-up-and-start-again_986/index.html\n",
      "http://books.toscrape.com/catalogue/rip-it-up-and-start-again_986/index.html\n",
      "http://books.toscrape.com/catalogue/our-band-could-be-your-life-scenes-from-the-american-indie-underground-1981-1991_985/index.html\n",
      "http://books.toscrape.com/catalogue/our-band-could-be-your-life-scenes-from-the-american-indie-underground-1981-1991_985/index.html\n",
      "http://books.toscrape.com/catalogue/olio_984/index.html\n",
      "http://books.toscrape.com/catalogue/olio_984/index.html\n",
      "http://books.toscrape.com/catalogue/mesaerion-the-best-science-fiction-stories-1800-1849_983/index.html\n",
      "http://books.toscrape.com/catalogue/mesaerion-the-best-science-fiction-stories-1800-1849_983/index.html\n",
      "http://books.toscrape.com/catalogue/libertarianism-for-beginners_982/index.html\n",
      "http://books.toscrape.com/catalogue/libertarianism-for-beginners_982/index.html\n",
      "http://books.toscrape.com/catalogue/its-only-the-himalayas_981/index.html\n",
      "http://books.toscrape.com/catalogue/its-only-the-himalayas_981/index.html\n",
      "http://books.toscrape.com/catalogue/page-2.html\n"
     ]
    }
   ],
   "source": [
    "html = browser.html\n",
    "soup = BeautifulSoup (html, 'html.parser') \n",
    "tags = soup.find_all('a')\n",
    "\n",
    "for tag in tags:\n",
    "    print(f\"http://books.toscrape.com/{tag.get('href')}\")\n",
    "\n",
    "\n",
    "\n"
   ]
  },
  {
   "cell_type": "code",
   "execution_count": 13,
   "metadata": {},
   "outputs": [],
   "source": [
    "browser.quit()"
   ]
  }
 ],
 "metadata": {
  "kernelspec": {
   "display_name": "PythonData",
   "language": "python",
   "name": "pythondata"
  },
  "language_info": {
   "codemirror_mode": {
    "name": "ipython",
    "version": 3
   },
   "file_extension": ".py",
   "mimetype": "text/x-python",
   "name": "python",
   "nbconvert_exporter": "python",
   "pygments_lexer": "ipython3",
   "version": "3.7.4"
  }
 },
 "nbformat": 4,
 "nbformat_minor": 4
}
